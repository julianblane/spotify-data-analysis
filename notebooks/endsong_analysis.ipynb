{
 "cells": [
  {
   "cell_type": "code",
   "execution_count": null,
   "outputs": [],
   "source": [
    "import os\n",
    "import pandas as pd\n",
    "import seaborn as sns"
   ],
   "metadata": {
    "collapsed": false,
    "pycharm": {
     "name": "#%%\n"
    }
   }
  },
  {
   "cell_type": "code",
   "execution_count": null,
   "metadata": {
    "pycharm": {
     "name": "#%%\n",
     "is_executing": true
    }
   },
   "outputs": [],
   "source": [
    "data_location = '..\\data\\endsong_'\n",
    "\n",
    "# read first file to get df format\n",
    "index = 0\n",
    "df = pd.read_json(f'{data_location}{index}.json')\n",
    "index += 1\n",
    "\n",
    "# append the rest of the files\n",
    "while os.path.exists(f'{data_location}{index}.json'):\n",
    "    df = pd.concat([df, pd.read_json(f'{data_location}{index}.json')])\n",
    "    index += 1"
   ]
  },
  {
   "source": [
    "remove tracks not listened completely"
   ],
   "cell_type": "markdown",
   "metadata": {}
  },
  {
   "cell_type": "code",
   "execution_count": null,
   "metadata": {},
   "outputs": [],
   "source": [
    "df = df[(df.reason_end == 'trackdone') & (df.ms_played > 0)]"
   ]
  },
  {
   "cell_type": "markdown",
   "metadata": {
    "collapsed": false
   },
   "source": [
    "parse and offset datetime"
   ]
  },
  {
   "cell_type": "code",
   "execution_count": null,
   "metadata": {},
   "outputs": [],
   "source": [
    "df['ts'] = pd.to_datetime(df.ts, utc=True)\n",
    "df.ts = df.ts.dt.tz_convert('America/Argentina/Cordoba')"
   ]
  },
  {
   "cell_type": "markdown",
   "source": [
    "## categorical"
   ],
   "metadata": {
    "collapsed": false
   }
  },
  {
   "cell_type": "code",
   "execution_count": null,
   "outputs": [],
   "source": [
    "# categorical labels\n",
    "df['weekday'] = df.ts.map(lambda x: x.weekday())\n",
    "df['time'] = df.ts.map(lambda x: f'{x.hour:02}:{(x.minute // 30) * 30:02}') # groups of 30 minutes"
   ],
   "metadata": {
    "collapsed": false,
    "pycharm": {
     "name": "#%%\n"
    }
   }
  },
  {
   "cell_type": "markdown",
   "source": [
    "### time x weekday"
   ],
   "metadata": {
    "collapsed": false
   }
  },
  {
   "cell_type": "code",
   "execution_count": null,
   "metadata": {},
   "outputs": [],
   "source": [
    "grouping = ['time', 'weekday']\n",
    "grouping_label = ' '.join(grouping)\n",
    "\n",
    "grouped = df\n",
    "grouped[grouping_label] = grouped.apply(lambda x: ' '.join([str(x[grouping[0]]), str(x[grouping[1]])]), axis=1)"
   ]
  },
  {
   "cell_type": "markdown",
   "metadata": {},
   "source": [
    "group and count"
   ]
  },
  {
   "cell_type": "code",
   "execution_count": null,
   "metadata": {},
   "outputs": [],
   "source": [
    "frequencies = grouped[[grouping_label, 'ts']].groupby(grouping_label).count()\n",
    "\n",
    "frequencies[grouping[0]] = frequencies.index.map(lambda x: x.split(' ')[0])\n",
    "frequencies[grouping[1]] = frequencies.index.map(lambda x: ' '.join(x.split(' ')[1:]))"
   ]
  },
  {
   "cell_type": "code",
   "execution_count": null,
   "metadata": {},
   "outputs": [],
   "source": [
    "pivot = pd.pivot_table(frequencies, values='ts', index=[grouping[1]], columns=[grouping[0]], fill_value=0)\n",
    "pivot"
   ]
  },
  {
   "cell_type": "code",
   "execution_count": null,
   "metadata": {
    "pycharm": {
     "name": "#%%\n"
    }
   },
   "outputs": [],
   "source": [
    "sns.set(rc={'figure.figsize':(30,20)})\n",
    "sns.heatmap(pivot)"
   ]
  },
  {
   "cell_type": "code",
   "execution_count": null,
   "outputs": [],
   "source": [],
   "metadata": {
    "collapsed": false,
    "pycharm": {
     "name": "#%%\n"
    }
   }
  }
 ],
 "metadata": {
  "kernelspec": {
   "name": "python3",
   "language": "python",
   "display_name": "Python 3 (ipykernel)"
  },
  "language_info": {
   "codemirror_mode": {
    "name": "ipython",
    "version": 2
   },
   "file_extension": ".py",
   "mimetype": "text/x-python",
   "name": "python",
   "nbconvert_exporter": "python",
   "pygments_lexer": "ipython2",
   "version": "3.7.2-final"
  }
 },
 "nbformat": 4,
 "nbformat_minor": 0
}