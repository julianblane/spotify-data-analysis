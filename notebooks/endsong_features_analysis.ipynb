{
 "cells": [
  {
   "cell_type": "code",
   "execution_count": null,
   "metadata": {
    "collapsed": true
   },
   "outputs": [],
   "source": [
    "from src.spotify_data import spotify_logs\n",
    "import pandas as pd\n",
    "\n",
    "import seaborn as sns"
   ]
  },
  {
   "cell_type": "markdown",
   "source": [
    "load history and features"
   ],
   "metadata": {
    "collapsed": false
   }
  },
  {
   "cell_type": "code",
   "execution_count": null,
   "outputs": [],
   "source": [
    "tracks_played = spotify_logs.read_endsong()\n",
    "tracks_features =  pd.read_csv(f'..\\data\\\\track_features.csv')"
   ],
   "metadata": {
    "collapsed": false,
    "pycharm": {
     "name": "#%%\n"
    }
   }
  },
  {
   "cell_type": "code",
   "execution_count": null,
   "outputs": [],
   "source": [
    "tracks_played_features = pd.merge(tracks_played, tracks_features, how='left', left_on='spotify_track_uri', right_on='uri')"
   ],
   "metadata": {
    "collapsed": false,
    "pycharm": {
     "name": "#%%\n"
    }
   }
  },
  {
   "cell_type": "markdown",
   "source": [
    "labels"
   ],
   "metadata": {
    "collapsed": false
   }
  },
  {
   "cell_type": "code",
   "execution_count": null,
   "outputs": [],
   "source": [
    "# categorical labels\n",
    "tracks_played_features['weekday'] = tracks_played_features.ts.map(lambda x: x.weekday())\n",
    "tracks_played_features['time'] = tracks_played_features.ts.map(lambda x: f'{x.hour:02}:{(x.minute // 30) * 30:02}') # groups of 30 minutes\n",
    "tracks_played_features['yearmonth'] = tracks_played_features.ts.map(lambda x: f'{x.year}{x.month:02}')"
   ],
   "metadata": {
    "collapsed": false,
    "pycharm": {
     "name": "#%%\n"
    }
   }
  },
  {
   "cell_type": "code",
   "execution_count": null,
   "outputs": [],
   "source": [
    "# features to use\n",
    "features_labels = [f for f in tracks_features.columns if f not in ['uri', 'type', 'id', 'track_href', 'analysis_url']]"
   ],
   "metadata": {
    "collapsed": false,
    "pycharm": {
     "name": "#%%\n"
    }
   }
  },
  {
   "cell_type": "markdown",
   "source": [
    "## features over time of day"
   ],
   "metadata": {
    "collapsed": false
   }
  },
  {
   "cell_type": "code",
   "execution_count": null,
   "outputs": [],
   "source": [
    "means = tracks_played_features.groupby('time').mean()\n",
    "means = means[features_labels].transpose() # transpose for easier readability"
   ],
   "metadata": {
    "collapsed": false,
    "pycharm": {
     "name": "#%%\n"
    }
   }
  },
  {
   "cell_type": "code",
   "execution_count": null,
   "outputs": [],
   "source": [
    "# normalize per feature\n",
    "means = means.sub(means.min(axis=1), axis=0)\n",
    "means = means.div(means.max(axis=1), axis=0)"
   ],
   "metadata": {
    "collapsed": false,
    "pycharm": {
     "name": "#%%\n"
    }
   }
  },
  {
   "cell_type": "code",
   "execution_count": null,
   "outputs": [],
   "source": [
    "sns.set(rc={'figure.figsize':(20,10)})\n",
    "sns.heatmap(means, robust=True, cmap='Blues')"
   ],
   "metadata": {
    "collapsed": false,
    "pycharm": {
     "name": "#%%\n"
    }
   }
  },
  {
   "cell_type": "markdown",
   "source": [
    "## features along time"
   ],
   "metadata": {
    "collapsed": false,
    "pycharm": {
     "name": "#%% md\n"
    }
   }
  },
  {
   "cell_type": "code",
   "execution_count": null,
   "outputs": [],
   "source": [
    "means = tracks_played_features.groupby('yearmonth').mean()\n",
    "means = means[features_labels].transpose() # transpose for easier readability\n",
    "\n",
    "# normalize per feature\n",
    "means = means.sub(means.min(axis=1), axis=0)\n",
    "means = means.div(means.max(axis=1), axis=0)"
   ],
   "metadata": {
    "collapsed": false,
    "pycharm": {
     "name": "#%%\n"
    }
   }
  },
  {
   "cell_type": "code",
   "execution_count": null,
   "outputs": [],
   "source": [
    "sns.set(rc={'figure.figsize':(20,10)})\n",
    "sns.heatmap(means, robust=True, cmap='Blues')"
   ],
   "metadata": {
    "collapsed": false,
    "pycharm": {
     "name": "#%%\n"
    }
   }
  },
  {
   "cell_type": "markdown",
   "source": [
    "## features over weekdays"
   ],
   "metadata": {
    "collapsed": false
   }
  },
  {
   "cell_type": "code",
   "execution_count": null,
   "outputs": [],
   "source": [
    "means = tracks_played_features.groupby('weekday').mean()\n",
    "means = means[features_labels].transpose() # transpose for easier readability\n",
    "\n",
    "# normalize per feature\n",
    "means = means.sub(means.min(axis=1), axis=0)\n",
    "means = means.div(means.max(axis=1), axis=0)\n",
    "\n",
    "sns.set(rc={'figure.figsize':(20,10)})\n",
    "sns.heatmap(means, robust=True, cmap='Blues')"
   ],
   "metadata": {
    "collapsed": false,
    "pycharm": {
     "name": "#%%\n"
    }
   }
  },
  {
   "cell_type": "code",
   "execution_count": null,
   "outputs": [],
   "source": [],
   "metadata": {
    "collapsed": false,
    "pycharm": {
     "name": "#%%\n"
    }
   }
  }
 ],
 "metadata": {
  "kernelspec": {
   "display_name": "Python 3",
   "language": "python",
   "name": "python3"
  },
  "language_info": {
   "codemirror_mode": {
    "name": "ipython",
    "version": 2
   },
   "file_extension": ".py",
   "mimetype": "text/x-python",
   "name": "python",
   "nbconvert_exporter": "python",
   "pygments_lexer": "ipython2",
   "version": "2.7.6"
  }
 },
 "nbformat": 4,
 "nbformat_minor": 0
}