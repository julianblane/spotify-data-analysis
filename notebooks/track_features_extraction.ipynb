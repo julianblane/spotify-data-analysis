{
 "cells": [
  {
   "cell_type": "code",
   "execution_count": null,
   "metadata": {},
   "outputs": [],
   "source": [
    "import spotipy\n",
    "from spotipy.oauth2 import SpotifyClientCredentials\n",
    "import pandas as pd\n",
    "\n",
    "from src.spotify_data import spotify_logs"
   ]
  },
  {
   "cell_type": "markdown",
   "metadata": {},
   "source": [
    "setup spotipy"
   ]
  },
  {
   "cell_type": "code",
   "execution_count": null,
   "metadata": {},
   "outputs": [],
   "source": [
    "CLIENT_ID = 'CLIENT_ID'\n",
    "CLIENT_SECRET = 'CLIENT_SECRET'\n",
    "\n",
    "spotify = spotipy.Spotify(client_credentials_manager=SpotifyClientCredentials(client_id=CLIENT_ID, client_secret=CLIENT_SECRET))"
   ]
  },
  {
   "cell_type": "markdown",
   "metadata": {},
   "source": [
    "get song history"
   ]
  },
  {
   "cell_type": "code",
   "execution_count": null,
   "metadata": {},
   "outputs": [],
   "source": [
    "songs_played = spotify_logs.read_endsong()"
   ]
  },
  {
   "cell_type": "markdown",
   "metadata": {},
   "source": [
    "get spotify uris"
   ]
  },
  {
   "cell_type": "code",
   "execution_count": null,
   "metadata": {},
   "outputs": [],
   "source": [
    "min_plays = 0\n",
    "songs_unique = songs_played[['spotify_track_uri', 'ts']].groupby(by='spotify_track_uri').count()\n",
    "songs_unique = songs_unique[songs_unique.ts >= min_plays].sort_values('spotify_track_uri')\n",
    "songs_unique = list(songs_unique.index)\n",
    "f'{len(songs_unique)} tracks to retrieve'"
   ]
  },
  {
   "cell_type": "markdown",
   "metadata": {},
   "source": [
    "query and save every 100 tracks"
   ]
  },
  {
   "cell_type": "code",
   "execution_count": null,
   "metadata": {
    "tags": []
   },
   "outputs": [],
   "source": [
    "track_features = pd.DataFrame()\n",
    "\n",
    "step = 100\n",
    "for i in range(0, len(songs_unique), step):\n",
    "    uris = songs_unique[i : i + step]\n",
    "    features = spotify.audio_features(uris)\n",
    "\n",
    "    try:\n",
    "        df_features = pd.DataFrame(features)\n",
    "    except AttributeError:\n",
    "        # sometimes the feature is null\n",
    "        df_features = pd.DataFrame([f for f in features if f])\n",
    "\n",
    "    track_features = pd.concat([track_features, df_features])\n",
    "    print(i)\n",
    "\n",
    "# set index and save\n",
    "track_features.set_index('uri').to_csv('..\\data\\\\track_features.csv')"
   ]
  },
  {
   "cell_type": "code",
   "execution_count": null,
   "metadata": {
    "pycharm": {
     "name": "#%%\n",
     "is_executing": true
    }
   },
   "outputs": [],
   "source": [
    "track_features"
   ]
  }
 ],
 "metadata": {
  "kernelspec": {
   "display_name": "Python 3 (ipykernel)",
   "language": "python",
   "name": "python3"
  },
  "language_info": {
   "codemirror_mode": {
    "name": "ipython",
    "version": 3
   },
   "file_extension": ".py",
   "mimetype": "text/x-python",
   "name": "python",
   "nbconvert_exporter": "python",
   "pygments_lexer": "ipython3",
   "version": "3.9.7"
  }
 },
 "nbformat": 4,
 "nbformat_minor": 2
}